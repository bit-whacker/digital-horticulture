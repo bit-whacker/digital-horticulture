{
 "cells": [
  {
   "cell_type": "markdown",
   "id": "other-bloom",
   "metadata": {},
   "source": [
    "# Some Data Science for Digital Horticulture"
   ]
  },
  {
   "cell_type": "code",
   "execution_count": 1,
   "id": "developing-forward",
   "metadata": {},
   "outputs": [],
   "source": [
    "import pandas as pd\n",
    "import numpy as np\n",
    "from sklearn.model_selection import train_test_split\n",
    "from sklearn.ensemble import RandomForestRegressor\n",
    "from sklearn.metrics import mean_squared_error\n",
    "from datetime import datetime\n",
    "import matplotlib.pyplot as plt\n",
    "import warnings\n",
    "warnings.filterwarnings('ignore')"
   ]
  },
  {
   "cell_type": "code",
   "execution_count": 2,
   "id": "oriental-reservation",
   "metadata": {},
   "outputs": [],
   "source": [
    "# Load the data into a Pandas DataFrame\n",
    "df = pd.read_csv(\"./data/FargroSample.csv\", encoding='utf-8')"
   ]
  },
  {
   "cell_type": "code",
   "execution_count": 3,
   "id": "excessive-values",
   "metadata": {},
   "outputs": [
    {
     "data": {
      "text/html": [
       "<div>\n",
       "<style scoped>\n",
       "    .dataframe tbody tr th:only-of-type {\n",
       "        vertical-align: middle;\n",
       "    }\n",
       "\n",
       "    .dataframe tbody tr th {\n",
       "        vertical-align: top;\n",
       "    }\n",
       "\n",
       "    .dataframe thead th {\n",
       "        text-align: right;\n",
       "    }\n",
       "</style>\n",
       "<table border=\"1\" class=\"dataframe\">\n",
       "  <thead>\n",
       "    <tr style=\"text-align: right;\">\n",
       "      <th></th>\n",
       "      <th>DeviceID</th>\n",
       "      <th>Timestamp</th>\n",
       "      <th>airtemp</th>\n",
       "      <th>airhumidity</th>\n",
       "      <th>irtemp</th>\n",
       "      <th>dewpoint</th>\n",
       "    </tr>\n",
       "  </thead>\n",
       "  <tbody>\n",
       "    <tr>\n",
       "      <th>1516</th>\n",
       "      <td>1FEFF6F</td>\n",
       "      <td>2022-09-21 08:13:01</td>\n",
       "      <td>20.12</td>\n",
       "      <td>70.10</td>\n",
       "      <td>18.11</td>\n",
       "      <td>23.50</td>\n",
       "    </tr>\n",
       "    <tr>\n",
       "      <th>9508</th>\n",
       "      <td>1FEFF6F</td>\n",
       "      <td>2022-12-08 16:33:04</td>\n",
       "      <td>7.13</td>\n",
       "      <td>70.46</td>\n",
       "      <td>5.45</td>\n",
       "      <td>36.59</td>\n",
       "    </tr>\n",
       "    <tr>\n",
       "      <th>5280</th>\n",
       "      <td>1FEFF6F</td>\n",
       "      <td>2022-11-04 19:13:00</td>\n",
       "      <td>10.50</td>\n",
       "      <td>71.56</td>\n",
       "      <td>10.67</td>\n",
       "      <td>32.18</td>\n",
       "    </tr>\n",
       "    <tr>\n",
       "      <th>10808</th>\n",
       "      <td>1FEFF5D</td>\n",
       "      <td>2022-10-08 14:44:13</td>\n",
       "      <td>23.82</td>\n",
       "      <td>58.20</td>\n",
       "      <td>21.25</td>\n",
       "      <td>22.79</td>\n",
       "    </tr>\n",
       "    <tr>\n",
       "      <th>992</th>\n",
       "      <td>1FEFF6F</td>\n",
       "      <td>2022-09-15 12:43:00</td>\n",
       "      <td>22.20</td>\n",
       "      <td>50.46</td>\n",
       "      <td>20.81</td>\n",
       "      <td>25.48</td>\n",
       "    </tr>\n",
       "  </tbody>\n",
       "</table>\n",
       "</div>"
      ],
      "text/plain": [
       "      DeviceID           Timestamp  airtemp  airhumidity  irtemp  dewpoint\n",
       "1516   1FEFF6F 2022-09-21 08:13:01    20.12        70.10   18.11     23.50\n",
       "9508   1FEFF6F 2022-12-08 16:33:04     7.13        70.46    5.45     36.59\n",
       "5280   1FEFF6F 2022-11-04 19:13:00    10.50        71.56   10.67     32.18\n",
       "10808  1FEFF5D 2022-10-08 14:44:13    23.82        58.20   21.25     22.79\n",
       "992    1FEFF6F 2022-09-15 12:43:00    22.20        50.46   20.81     25.48"
      ]
     },
     "execution_count": 3,
     "metadata": {},
     "output_type": "execute_result"
    }
   ],
   "source": [
    "# remove leading and trailing spaces from the DeviceID column\n",
    "df['DeviceID'] = df['DeviceID'].apply(lambda val: val.strip().replace(' ', ''))\n",
    "\n",
    "df['Timestamp'] = df['Timestamp'].apply(lambda val : datetime.fromisoformat(val))\n",
    "\n",
    "df = df[['DeviceID', 'Timestamp', 'airtemp', 'airhumidity', 'irtemp', 'dewpoint']]\n",
    "\n",
    "df.Timestamp = pd.to_datetime(df.Timestamp, unit='s')\n",
    "\n",
    "df.sample(5)"
   ]
  },
  {
   "cell_type": "code",
   "execution_count": 4,
   "id": "geographic-ceremony",
   "metadata": {},
   "outputs": [
    {
     "data": {
      "text/plain": [
       "array(['1FEFF6F', '1FEFF5D', '1FEFFEC'], dtype=object)"
      ]
     },
     "execution_count": 4,
     "metadata": {},
     "output_type": "execute_result"
    }
   ],
   "source": [
    "df.DeviceID.unique()"
   ]
  },
  {
   "cell_type": "code",
   "execution_count": 5,
   "id": "provincial-gambling",
   "metadata": {},
   "outputs": [],
   "source": [
    "grouped = df.groupby(df.DeviceID)\n",
    "\n",
    "data = grouped.get_group('1FEFF6F')\n",
    "d2df = grouped.get_group('1FEFF5D')\n",
    "d3df = grouped.get_group('1FEFFEC')"
   ]
  },
  {
   "cell_type": "code",
   "execution_count": 6,
   "id": "future-geneva",
   "metadata": {},
   "outputs": [],
   "source": [
    "data = data[[\"Timestamp\", \"airtemp\", \"airhumidity\", \"irtemp\", \"dewpoint\"]]"
   ]
  },
  {
   "cell_type": "code",
   "execution_count": 7,
   "id": "sapphire-british",
   "metadata": {},
   "outputs": [
    {
     "data": {
      "text/html": [
       "<div>\n",
       "<style scoped>\n",
       "    .dataframe tbody tr th:only-of-type {\n",
       "        vertical-align: middle;\n",
       "    }\n",
       "\n",
       "    .dataframe tbody tr th {\n",
       "        vertical-align: top;\n",
       "    }\n",
       "\n",
       "    .dataframe thead th {\n",
       "        text-align: right;\n",
       "    }\n",
       "</style>\n",
       "<table border=\"1\" class=\"dataframe\">\n",
       "  <thead>\n",
       "    <tr style=\"text-align: right;\">\n",
       "      <th></th>\n",
       "      <th>Timestamp</th>\n",
       "      <th>airtemp</th>\n",
       "      <th>airhumidity</th>\n",
       "      <th>irtemp</th>\n",
       "      <th>dewpoint</th>\n",
       "    </tr>\n",
       "  </thead>\n",
       "  <tbody>\n",
       "    <tr>\n",
       "      <th>5843</th>\n",
       "      <td>2022-11-09 20:42:57</td>\n",
       "      <td>11.17</td>\n",
       "      <td>71.41</td>\n",
       "      <td>10.37</td>\n",
       "      <td>32.82</td>\n",
       "    </tr>\n",
       "    <tr>\n",
       "      <th>2011</th>\n",
       "      <td>2022-09-27 09:33:00</td>\n",
       "      <td>20.81</td>\n",
       "      <td>63.27</td>\n",
       "      <td>18.81</td>\n",
       "      <td>24.83</td>\n",
       "    </tr>\n",
       "    <tr>\n",
       "      <th>7286</th>\n",
       "      <td>2022-11-21 22:22:58</td>\n",
       "      <td>8.15</td>\n",
       "      <td>70.71</td>\n",
       "      <td>7.57</td>\n",
       "      <td>35.66</td>\n",
       "    </tr>\n",
       "    <tr>\n",
       "      <th>9002</th>\n",
       "      <td>2022-12-05 04:53:01</td>\n",
       "      <td>6.81</td>\n",
       "      <td>74.41</td>\n",
       "      <td>6.83</td>\n",
       "      <td>35.60</td>\n",
       "    </tr>\n",
       "    <tr>\n",
       "      <th>1505</th>\n",
       "      <td>2022-09-21 03:53:01</td>\n",
       "      <td>8.73</td>\n",
       "      <td>73.80</td>\n",
       "      <td>10.13</td>\n",
       "      <td>34.71</td>\n",
       "    </tr>\n",
       "  </tbody>\n",
       "</table>\n",
       "</div>"
      ],
      "text/plain": [
       "               Timestamp  airtemp  airhumidity  irtemp  dewpoint\n",
       "5843 2022-11-09 20:42:57    11.17        71.41   10.37     32.82\n",
       "2011 2022-09-27 09:33:00    20.81        63.27   18.81     24.83\n",
       "7286 2022-11-21 22:22:58     8.15        70.71    7.57     35.66\n",
       "9002 2022-12-05 04:53:01     6.81        74.41    6.83     35.60\n",
       "1505 2022-09-21 03:53:01     8.73        73.80   10.13     34.71"
      ]
     },
     "execution_count": 7,
     "metadata": {},
     "output_type": "execute_result"
    }
   ],
   "source": [
    "data.sample(5)"
   ]
  },
  {
   "cell_type": "code",
   "execution_count": 8,
   "id": "welcome-contamination",
   "metadata": {},
   "outputs": [
    {
     "data": {
      "text/plain": [
       "292"
      ]
     },
     "execution_count": 8,
     "metadata": {},
     "output_type": "execute_result"
    }
   ],
   "source": [
    "# Missing values in whole data e.g., the data from Device 1 ['1FEFF6F'].\n",
    "data.isna().sum().sum()"
   ]
  },
  {
   "cell_type": "code",
   "execution_count": 9,
   "id": "federal-stand",
   "metadata": {},
   "outputs": [
    {
     "name": "stdout",
     "output_type": "stream",
     "text": [
      "Timestamp encountered. Skipping\n"
     ]
    }
   ],
   "source": [
    "for i, col in enumerate(data.columns):\n",
    "    if col == 'Timestamp':\n",
    "        print('Timestamp encountered. Skipping')\n",
    "        continue\n",
    "    data[col].fillna(int(data[col].mean()), inplace=True)"
   ]
  },
  {
   "cell_type": "code",
   "execution_count": 10,
   "id": "reflected-navigation",
   "metadata": {},
   "outputs": [
    {
     "data": {
      "text/plain": [
       "0"
      ]
     },
     "execution_count": 10,
     "metadata": {},
     "output_type": "execute_result"
    }
   ],
   "source": [
    "# fill missing values with mean value. other options are available but for this example we choose mean.\n",
    "data.isna().sum().sum()"
   ]
  },
  {
   "cell_type": "code",
   "execution_count": 11,
   "id": "fourth-community",
   "metadata": {},
   "outputs": [],
   "source": [
    "# group by 15 minutes interval\n",
    "data[\"Timestamp\"] = data[\"Timestamp\"].dt.floor('15min')\n",
    "groupeddata = data.groupby(by=\"Timestamp\").agg({col: np.mean for col in [\"airtemp\", \"airhumidity\", \"irtemp\", \"dewpoint\"]})\n"
   ]
  },
  {
   "cell_type": "code",
   "execution_count": 12,
   "id": "addressed-coast",
   "metadata": {},
   "outputs": [],
   "source": [
    "gdata = groupeddata.copy(deep = True)"
   ]
  },
  {
   "cell_type": "code",
   "execution_count": 13,
   "id": "working-england",
   "metadata": {},
   "outputs": [
    {
     "data": {
      "text/plain": [
       "0"
      ]
     },
     "execution_count": 13,
     "metadata": {},
     "output_type": "execute_result"
    }
   ],
   "source": [
    "gdata.isna().sum().sum()"
   ]
  },
  {
   "cell_type": "code",
   "execution_count": 14,
   "id": "respected-cabin",
   "metadata": {},
   "outputs": [
    {
     "data": {
      "text/html": [
       "<div>\n",
       "<style scoped>\n",
       "    .dataframe tbody tr th:only-of-type {\n",
       "        vertical-align: middle;\n",
       "    }\n",
       "\n",
       "    .dataframe tbody tr th {\n",
       "        vertical-align: top;\n",
       "    }\n",
       "\n",
       "    .dataframe thead th {\n",
       "        text-align: right;\n",
       "    }\n",
       "</style>\n",
       "<table border=\"1\" class=\"dataframe\">\n",
       "  <thead>\n",
       "    <tr style=\"text-align: right;\">\n",
       "      <th></th>\n",
       "      <th>airtemp</th>\n",
       "      <th>airhumidity</th>\n",
       "      <th>irtemp</th>\n",
       "      <th>dewpoint</th>\n",
       "    </tr>\n",
       "  </thead>\n",
       "  <tbody>\n",
       "    <tr>\n",
       "      <th>count</th>\n",
       "      <td>7287.000000</td>\n",
       "      <td>7287.000000</td>\n",
       "      <td>7287.000000</td>\n",
       "      <td>7287.000000</td>\n",
       "    </tr>\n",
       "    <tr>\n",
       "      <th>mean</th>\n",
       "      <td>14.137901</td>\n",
       "      <td>69.603643</td>\n",
       "      <td>13.984401</td>\n",
       "      <td>29.368397</td>\n",
       "    </tr>\n",
       "    <tr>\n",
       "      <th>std</th>\n",
       "      <td>8.095760</td>\n",
       "      <td>5.628698</td>\n",
       "      <td>9.073301</td>\n",
       "      <td>4.387501</td>\n",
       "    </tr>\n",
       "    <tr>\n",
       "      <th>min</th>\n",
       "      <td>-114.900000</td>\n",
       "      <td>45.420000</td>\n",
       "      <td>-115.820000</td>\n",
       "      <td>15.370000</td>\n",
       "    </tr>\n",
       "    <tr>\n",
       "      <th>25%</th>\n",
       "      <td>10.487500</td>\n",
       "      <td>67.070000</td>\n",
       "      <td>10.830000</td>\n",
       "      <td>26.170000</td>\n",
       "    </tr>\n",
       "    <tr>\n",
       "      <th>50%</th>\n",
       "      <td>14.480000</td>\n",
       "      <td>71.240000</td>\n",
       "      <td>14.690000</td>\n",
       "      <td>28.970000</td>\n",
       "    </tr>\n",
       "    <tr>\n",
       "      <th>75%</th>\n",
       "      <td>17.900000</td>\n",
       "      <td>73.720000</td>\n",
       "      <td>17.790000</td>\n",
       "      <td>32.802500</td>\n",
       "    </tr>\n",
       "    <tr>\n",
       "      <th>max</th>\n",
       "      <td>31.435000</td>\n",
       "      <td>78.870000</td>\n",
       "      <td>30.550000</td>\n",
       "      <td>44.940000</td>\n",
       "    </tr>\n",
       "  </tbody>\n",
       "</table>\n",
       "</div>"
      ],
      "text/plain": [
       "           airtemp  airhumidity       irtemp     dewpoint\n",
       "count  7287.000000  7287.000000  7287.000000  7287.000000\n",
       "mean     14.137901    69.603643    13.984401    29.368397\n",
       "std       8.095760     5.628698     9.073301     4.387501\n",
       "min    -114.900000    45.420000  -115.820000    15.370000\n",
       "25%      10.487500    67.070000    10.830000    26.170000\n",
       "50%      14.480000    71.240000    14.690000    28.970000\n",
       "75%      17.900000    73.720000    17.790000    32.802500\n",
       "max      31.435000    78.870000    30.550000    44.940000"
      ]
     },
     "execution_count": 14,
     "metadata": {},
     "output_type": "execute_result"
    }
   ],
   "source": [
    "gdata.describe()"
   ]
  },
  {
   "cell_type": "code",
   "execution_count": 15,
   "id": "saving-melbourne",
   "metadata": {},
   "outputs": [
    {
     "data": {
      "text/html": [
       "<div>\n",
       "<style scoped>\n",
       "    .dataframe tbody tr th:only-of-type {\n",
       "        vertical-align: middle;\n",
       "    }\n",
       "\n",
       "    .dataframe tbody tr th {\n",
       "        vertical-align: top;\n",
       "    }\n",
       "\n",
       "    .dataframe thead th {\n",
       "        text-align: right;\n",
       "    }\n",
       "</style>\n",
       "<table border=\"1\" class=\"dataframe\">\n",
       "  <thead>\n",
       "    <tr style=\"text-align: right;\">\n",
       "      <th></th>\n",
       "      <th>airtemp</th>\n",
       "      <th>airhumidity</th>\n",
       "      <th>irtemp</th>\n",
       "      <th>dewpoint</th>\n",
       "    </tr>\n",
       "    <tr>\n",
       "      <th>Timestamp</th>\n",
       "      <th></th>\n",
       "      <th></th>\n",
       "      <th></th>\n",
       "      <th></th>\n",
       "    </tr>\n",
       "  </thead>\n",
       "  <tbody>\n",
       "    <tr>\n",
       "      <th>2022-12-08 04:30:00</th>\n",
       "      <td>-113.315</td>\n",
       "      <td>72.635</td>\n",
       "      <td>-114.610</td>\n",
       "      <td>43.845</td>\n",
       "    </tr>\n",
       "    <tr>\n",
       "      <th>2022-12-08 04:45:00</th>\n",
       "      <td>-113.260</td>\n",
       "      <td>72.590</td>\n",
       "      <td>-114.610</td>\n",
       "      <td>43.780</td>\n",
       "    </tr>\n",
       "    <tr>\n",
       "      <th>2022-12-08 05:00:00</th>\n",
       "      <td>-113.170</td>\n",
       "      <td>72.495</td>\n",
       "      <td>-114.560</td>\n",
       "      <td>43.670</td>\n",
       "    </tr>\n",
       "    <tr>\n",
       "      <th>2022-12-08 05:15:00</th>\n",
       "      <td>-113.200</td>\n",
       "      <td>72.320</td>\n",
       "      <td>-114.490</td>\n",
       "      <td>43.490</td>\n",
       "    </tr>\n",
       "    <tr>\n",
       "      <th>2022-12-08 05:30:00</th>\n",
       "      <td>-114.025</td>\n",
       "      <td>72.530</td>\n",
       "      <td>-114.450</td>\n",
       "      <td>43.490</td>\n",
       "    </tr>\n",
       "    <tr>\n",
       "      <th>2022-12-08 05:45:00</th>\n",
       "      <td>-114.900</td>\n",
       "      <td>72.500</td>\n",
       "      <td>-114.110</td>\n",
       "      <td>43.400</td>\n",
       "    </tr>\n",
       "    <tr>\n",
       "      <th>2022-12-08 06:00:00</th>\n",
       "      <td>-114.835</td>\n",
       "      <td>72.525</td>\n",
       "      <td>-115.110</td>\n",
       "      <td>43.345</td>\n",
       "    </tr>\n",
       "    <tr>\n",
       "      <th>2022-12-08 06:15:00</th>\n",
       "      <td>-114.750</td>\n",
       "      <td>72.570</td>\n",
       "      <td>-114.270</td>\n",
       "      <td>43.270</td>\n",
       "    </tr>\n",
       "    <tr>\n",
       "      <th>2022-12-08 06:30:00</th>\n",
       "      <td>-114.720</td>\n",
       "      <td>72.640</td>\n",
       "      <td>-114.150</td>\n",
       "      <td>43.255</td>\n",
       "    </tr>\n",
       "    <tr>\n",
       "      <th>2022-12-08 06:45:00</th>\n",
       "      <td>-114.710</td>\n",
       "      <td>72.690</td>\n",
       "      <td>-114.330</td>\n",
       "      <td>43.250</td>\n",
       "    </tr>\n",
       "    <tr>\n",
       "      <th>2022-12-08 07:00:00</th>\n",
       "      <td>-114.590</td>\n",
       "      <td>72.550</td>\n",
       "      <td>-115.820</td>\n",
       "      <td>43.465</td>\n",
       "    </tr>\n",
       "    <tr>\n",
       "      <th>2022-12-08 07:15:00</th>\n",
       "      <td>-114.460</td>\n",
       "      <td>72.360</td>\n",
       "      <td>-115.710</td>\n",
       "      <td>44.940</td>\n",
       "    </tr>\n",
       "    <tr>\n",
       "      <th>2022-12-08 07:30:00</th>\n",
       "      <td>-114.265</td>\n",
       "      <td>72.255</td>\n",
       "      <td>-115.640</td>\n",
       "      <td>44.720</td>\n",
       "    </tr>\n",
       "    <tr>\n",
       "      <th>2022-12-08 07:45:00</th>\n",
       "      <td>-114.200</td>\n",
       "      <td>72.370</td>\n",
       "      <td>-115.590</td>\n",
       "      <td>44.680</td>\n",
       "    </tr>\n",
       "    <tr>\n",
       "      <th>2022-12-08 08:00:00</th>\n",
       "      <td>-114.225</td>\n",
       "      <td>72.655</td>\n",
       "      <td>-115.800</td>\n",
       "      <td>44.760</td>\n",
       "    </tr>\n",
       "    <tr>\n",
       "      <th>2022-12-08 08:15:00</th>\n",
       "      <td>-114.330</td>\n",
       "      <td>72.840</td>\n",
       "      <td>-114.500</td>\n",
       "      <td>44.900</td>\n",
       "    </tr>\n",
       "    <tr>\n",
       "      <th>2022-12-08 08:30:00</th>\n",
       "      <td>-114.650</td>\n",
       "      <td>73.090</td>\n",
       "      <td>-113.685</td>\n",
       "      <td>43.635</td>\n",
       "    </tr>\n",
       "    <tr>\n",
       "      <th>2022-12-08 08:45:00</th>\n",
       "      <td>-113.300</td>\n",
       "      <td>73.790</td>\n",
       "      <td>0.410</td>\n",
       "      <td>42.600</td>\n",
       "    </tr>\n",
       "  </tbody>\n",
       "</table>\n",
       "</div>"
      ],
      "text/plain": [
       "                     airtemp  airhumidity   irtemp  dewpoint\n",
       "Timestamp                                                   \n",
       "2022-12-08 04:30:00 -113.315       72.635 -114.610    43.845\n",
       "2022-12-08 04:45:00 -113.260       72.590 -114.610    43.780\n",
       "2022-12-08 05:00:00 -113.170       72.495 -114.560    43.670\n",
       "2022-12-08 05:15:00 -113.200       72.320 -114.490    43.490\n",
       "2022-12-08 05:30:00 -114.025       72.530 -114.450    43.490\n",
       "2022-12-08 05:45:00 -114.900       72.500 -114.110    43.400\n",
       "2022-12-08 06:00:00 -114.835       72.525 -115.110    43.345\n",
       "2022-12-08 06:15:00 -114.750       72.570 -114.270    43.270\n",
       "2022-12-08 06:30:00 -114.720       72.640 -114.150    43.255\n",
       "2022-12-08 06:45:00 -114.710       72.690 -114.330    43.250\n",
       "2022-12-08 07:00:00 -114.590       72.550 -115.820    43.465\n",
       "2022-12-08 07:15:00 -114.460       72.360 -115.710    44.940\n",
       "2022-12-08 07:30:00 -114.265       72.255 -115.640    44.720\n",
       "2022-12-08 07:45:00 -114.200       72.370 -115.590    44.680\n",
       "2022-12-08 08:00:00 -114.225       72.655 -115.800    44.760\n",
       "2022-12-08 08:15:00 -114.330       72.840 -114.500    44.900\n",
       "2022-12-08 08:30:00 -114.650       73.090 -113.685    43.635\n",
       "2022-12-08 08:45:00 -113.300       73.790    0.410    42.600"
      ]
     },
     "execution_count": 15,
     "metadata": {},
     "output_type": "execute_result"
    }
   ],
   "source": [
    "# checking for below zero temperature\n",
    "gdata[gdata.airtemp < 0]"
   ]
  },
  {
   "cell_type": "markdown",
   "id": "studied-howard",
   "metadata": {},
   "source": [
    "* As we can see the temperature goes well below zero degrees upto -115C. Not sure if these are expected in greenhouses but looks odd!\n"
   ]
  },
  {
   "cell_type": "markdown",
   "id": "reverse-trouble",
   "metadata": {},
   "source": [
    "## Here are boxplots to visually see some outliers.\n"
   ]
  },
  {
   "cell_type": "code",
   "execution_count": 16,
   "id": "confirmed-judges",
   "metadata": {},
   "outputs": [
    {
     "data": {
      "image/png": "[encoded data removed]",
      "text/plain": [
       "<Figure size 1080x360 with 4 Axes>"
      ]
     },
     "metadata": {
      "needs_background": "light"
     },
     "output_type": "display_data"
    }
   ],
   "source": [
    "\n",
    "# boxplot the DataFrame\n",
    "fig, axs = plt.subplots(1, len(gdata.columns), figsize=(15,5))\n",
    "for i, col in enumerate(gdata.columns):\n",
    "    axs[i].boxplot(gdata[col])\n",
    "    axs[i].set_title(col)\n",
    "\n",
    "# Show the plot\n",
    "plt.show()\n"
   ]
  },
  {
   "cell_type": "markdown",
   "id": "fifty-equity",
   "metadata": {},
   "source": [
    "**Outliers**: There are outliers in the data as can be seen from the plots above. We can remove the outliers but sometime these outliers show an unexpected behaviour of the system.  Here domain knowledge is required to suggest either the removal or inclusion of these outliers from the data.\n"
   ]
  },
  {
   "cell_type": "markdown",
   "id": "champion-custody",
   "metadata": {},
   "source": [
    "**Daily observations** Below are some plots to see the daily observations of environmental factors in the greenhouse"
   ]
  },
  {
   "cell_type": "code",
   "execution_count": 29,
   "id": "municipal-instrumentation",
   "metadata": {},
   "outputs": [
    {
     "data": {
      "image/png": "[encoded data removed]",
      "text/plain": [
       "<Figure size 1080x360 with 4 Axes>"
      ]
     },
     "metadata": {
      "needs_background": "light"
     },
     "output_type": "display_data"
    }
   ],
   "source": [
    "# boxplot the DataFrame\n",
    "df_day = gdata.resample('D').mean()\n",
    "fig, axs = plt.subplots(1, len(df_day.columns), figsize=(15,5))\n",
    "for i, col in enumerate(df_day.columns):\n",
    "    axs[i].plot(df_day[col], '-', label=col)\n",
    "    axs[i].set_title(f'''{col} - by day''')\n",
    "    axs[i].tick_params(labelrotation=75)\n",
    "plt.show()\n"
   ]
  },
  {
   "cell_type": "markdown",
   "id": "environmental-priority",
   "metadata": {},
   "source": [
    "**Correlation**: The following plot shows pair-wise correlation between the environmental variables from the provided dataset.\n"
   ]
  },
  {
   "cell_type": "code",
   "execution_count": 30,
   "id": "selected-armor",
   "metadata": {},
   "outputs": [
    {
     "data": {
      "text/plain": [
       "Text(0.5, 1.0, 'Correlation Matrix')"
      ]
     },
     "execution_count": 30,
     "metadata": {},
     "output_type": "execute_result"
    },
    {
     "data": {
      "image/png": "[encoded data removed]",
      "text/plain": [
       "<Figure size 576x576 with 2 Axes>"
      ]
     },
     "metadata": {
      "needs_background": "light"
     },
     "output_type": "display_data"
    }
   ],
   "source": [
    "f = plt.figure(figsize=(8, 8))\n",
    "plt.matshow(gdata.corr(), fignum=f.number)\n",
    "plt.xticks(range(gdata.select_dtypes(['number']).shape[1]), gdata.select_dtypes(['number']).columns, fontsize=14, rotation=45)\n",
    "plt.yticks(range(gdata.select_dtypes(['number']).shape[1]), gdata.select_dtypes(['number']).columns, fontsize=14)\n",
    "cb = plt.colorbar()\n",
    "cb.ax.tick_params(labelsize=14)\n",
    "plt.title('Correlation Matrix', fontsize=16)\n",
    "\n"
   ]
  },
  {
   "cell_type": "code",
   "execution_count": 31,
   "id": "limited-infrastructure",
   "metadata": {},
   "outputs": [
    {
     "data": {
      "text/plain": [
       "0"
      ]
     },
     "execution_count": 31,
     "metadata": {},
     "output_type": "execute_result"
    }
   ],
   "source": [
    "gdata.isna().sum().sum()"
   ]
  },
  {
   "cell_type": "code",
   "execution_count": 32,
   "id": "exterior-title",
   "metadata": {},
   "outputs": [],
   "source": [
    "# Split the data into input variables (X) and the target variable (y)\n",
    "X = gdata[[\"airtemp\", \"airhumidity\"]]\n",
    "y = gdata[\"irtemp\"]\n",
    "\n",
    "# Split the data into training and testing sets\n",
    "X_train, X_test, y_train, y_test = train_test_split(X, y, test_size=0.2)"
   ]
  },
  {
   "cell_type": "code",
   "execution_count": 33,
   "id": "early-pastor",
   "metadata": {},
   "outputs": [
    {
     "data": {
      "text/html": [
       "<div>\n",
       "<style scoped>\n",
       "    .dataframe tbody tr th:only-of-type {\n",
       "        vertical-align: middle;\n",
       "    }\n",
       "\n",
       "    .dataframe tbody tr th {\n",
       "        vertical-align: top;\n",
       "    }\n",
       "\n",
       "    .dataframe thead th {\n",
       "        text-align: right;\n",
       "    }\n",
       "</style>\n",
       "<table border=\"1\" class=\"dataframe\">\n",
       "  <thead>\n",
       "    <tr style=\"text-align: right;\">\n",
       "      <th></th>\n",
       "      <th>airtemp</th>\n",
       "      <th>airhumidity</th>\n",
       "    </tr>\n",
       "  </thead>\n",
       "  <tbody>\n",
       "    <tr>\n",
       "      <th>count</th>\n",
       "      <td>5829.000000</td>\n",
       "      <td>5829.000000</td>\n",
       "    </tr>\n",
       "    <tr>\n",
       "      <th>mean</th>\n",
       "      <td>14.201388</td>\n",
       "      <td>69.620505</td>\n",
       "    </tr>\n",
       "    <tr>\n",
       "      <th>std</th>\n",
       "      <td>7.659574</td>\n",
       "      <td>5.606639</td>\n",
       "    </tr>\n",
       "    <tr>\n",
       "      <th>min</th>\n",
       "      <td>-114.835000</td>\n",
       "      <td>45.900000</td>\n",
       "    </tr>\n",
       "    <tr>\n",
       "      <th>25%</th>\n",
       "      <td>10.500000</td>\n",
       "      <td>67.035000</td>\n",
       "    </tr>\n",
       "    <tr>\n",
       "      <th>50%</th>\n",
       "      <td>14.500000</td>\n",
       "      <td>71.240000</td>\n",
       "    </tr>\n",
       "    <tr>\n",
       "      <th>75%</th>\n",
       "      <td>17.890000</td>\n",
       "      <td>73.740000</td>\n",
       "    </tr>\n",
       "    <tr>\n",
       "      <th>max</th>\n",
       "      <td>31.435000</td>\n",
       "      <td>78.870000</td>\n",
       "    </tr>\n",
       "  </tbody>\n",
       "</table>\n",
       "</div>"
      ],
      "text/plain": [
       "           airtemp  airhumidity\n",
       "count  5829.000000  5829.000000\n",
       "mean     14.201388    69.620505\n",
       "std       7.659574     5.606639\n",
       "min    -114.835000    45.900000\n",
       "25%      10.500000    67.035000\n",
       "50%      14.500000    71.240000\n",
       "75%      17.890000    73.740000\n",
       "max      31.435000    78.870000"
      ]
     },
     "execution_count": 33,
     "metadata": {},
     "output_type": "execute_result"
    }
   ],
   "source": [
    "X_train.describe()"
   ]
  },
  {
   "cell_type": "code",
   "execution_count": 34,
   "id": "royal-gossip",
   "metadata": {},
   "outputs": [
    {
     "data": {
      "text/plain": [
       "count    5829.000000\n",
       "mean       14.015222\n",
       "std         8.950660\n",
       "min      -115.820000\n",
       "25%        10.830000\n",
       "50%        14.710000\n",
       "75%        17.810000\n",
       "max        30.550000\n",
       "Name: irtemp, dtype: float64"
      ]
     },
     "execution_count": 34,
     "metadata": {},
     "output_type": "execute_result"
    }
   ],
   "source": [
    "y_train.describe()"
   ]
  },
  {
   "cell_type": "markdown",
   "id": "stretch-vacuum",
   "metadata": {},
   "source": [
    "## Enough of visualisation, time to predict something..."
   ]
  },
  {
   "cell_type": "markdown",
   "id": "streaming-employer",
   "metadata": {},
   "source": [
    "Predict **Leaf Temperature** based on air-temperature and air-humidity"
   ]
  },
  {
   "cell_type": "code",
   "execution_count": 45,
   "id": "unlikely-flush",
   "metadata": {},
   "outputs": [
    {
     "name": "stdout",
     "output_type": "stream",
     "text": [
      "Mean Squared Error: 0.8301662985096554\n"
     ]
    }
   ],
   "source": [
    "\n",
    "# Split the data into input variables (X) and the target variable (y)\n",
    "X = gdata[[\"airtemp\", \"airhumidity\"]]\n",
    "y = gdata[\"irtemp\"]\n",
    "\n",
    "# Split the data into training and testing sets\n",
    "X_train, X_test, y_train, y_test = train_test_split(X, y, test_size=0.2)\n",
    "\n",
    "# Train a random forest regression model\n",
    "model = RandomForestRegressor(n_estimators=100)\n",
    "model.fit(X_train, y_train)\n",
    "\n",
    "# Make predictions on the test data\n",
    "y_pred = model.predict(X_test)\n",
    "\n",
    "# Calculate the mean squared error between the predicted and actual firmness values\n",
    "mse = mean_squared_error(y_test, y_pred)\n",
    "\n",
    "print(\"Mean Squared Error:\", mse)\n",
    "\n"
   ]
  },
  {
   "cell_type": "markdown",
   "id": "wooden-florist",
   "metadata": {},
   "source": [
    "**Note**: This is just a toy model that do predictions. obviously we can improve the prediction in many ways such as by adjusting its parameters or selecting different machine learning models such as deep learning. OR by including more environmental factors such as light-levels which is an important factor for plant growth in greenhouses. \n",
    "\n",
    "Additionally, the provided data do not full-fills the requirements to predict fruit firmness as required labels are missing. "
   ]
  },
  {
   "cell_type": "markdown",
   "id": "adequate-emphasis",
   "metadata": {},
   "source": [
    "## Suggestions for FarGro Digital Horticulture\n",
    "\n",
    "**Expert Systems**\n",
    "\n",
    "**1.** Given the expert (domain) knowledge in the context, an expert system capable of providing prescriptive recommendations can be developed to automate and assist the experts in decision making process. <br> <br>\n",
    "\n",
    "**2.** In addition, an alert system can be developed to monitor the air temperature, and humidity levels, and generates alerts with recommended actions if values of these factors deviates from the given ranges. \n",
    "\n",
    "**3.** With the expert knowledge, the whole system can be automated. which can help growers  make more informed decisions, leading to improved quality, increased yield reduce human efforts and time.\n",
    "\n",
    "\n",
    "**Automated Climate Control** \n",
    " \n",
    "**4.** Automated climate controle systems can be developed to ensure the desired temperature, humidity, and light levels, which are necessary for optimal growth and fruit health in greenhouse.\n",
    "\n",
    "\n",
    "**Computer Vision**\n",
    "\n",
    "**5.** Computer vision: we can use drones to capture images of strawberries at various stages of growth and use deep learning models like Convolutional Neural Networks to detect and analyse physical characteristics like color and size which can be later on used to predict fruit health, and firmness.\n",
    "\n"
   ]
  },
  {
   "cell_type": "markdown",
   "id": "outside-lawrence",
   "metadata": {},
   "source": [
    "### Final Remarks\n",
    "\n",
    "Finally, machine learning models learn from data, therefore, data acquisition, data quality, management and organisation are vital for any data science project. So, initially, a scalable data storage platform needs to be developed to capture and store all sort of data in an organised way.\n",
    "\n",
    "Additionally, more sensors can be added to acquire more types of data at every stage of growth, such as light-levels, images and other factors that can possibly impact the strawberry growth, yield and firmenss. This data can later on be used for prediction, and optimisation purposes.\n",
    "\n",
    "The good thing is that the expert knowledge is there, so we can build Expert Systems (decision support systems) to control environmental conditions in an automated way by monitoring the data from various sensors. The expert knowledge can be transformed into computer interpretable rules with prescriptive recommendations. With the development of a reasoning engine, these rules can be fired against the abnormal conditions for instant human intervention or automated actions to be taken by intelligent algorithms."
   ]
  }
 ],
 "metadata": {
  "kernelspec": {
   "display_name": "Python 3",
   "language": "python",
   "name": "python3"
  },
  "language_info": {
   "codemirror_mode": {
    "name": "ipython",
    "version": 3
   },
   "file_extension": ".py",
   "mimetype": "text/x-python",
   "name": "python",
   "nbconvert_exporter": "python",
   "pygments_lexer": "ipython3",
   "version": "3.7.9"
  }
 },
 "nbformat": 4,
 "nbformat_minor": 5
}
